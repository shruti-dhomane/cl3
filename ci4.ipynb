{
 "cells": [
  {
   "cell_type": "code",
   "execution_count": 1,
   "metadata": {},
   "outputs": [
    {
     "name": "stdout",
     "output_type": "stream",
     "text": [
      "The First Fuzzy Set is : {'a': 0.2, 'b': 0.3, 'c': 0.6, 'd': 0.6}\n",
      "The Second Fuzzy Set is : {'a': 0.9, 'b': 0.9, 'c': 0.4, 'd': 0.5}\n",
      "Fuzzy Set Union is : {'a': 0.9, 'b': 0.9, 'c': 0.6, 'd': 0.6}\n",
      "Fuzzy Set Intersection is : {'a': 0.2, 'b': 0.3, 'c': 0.4, 'd': 0.5}\n",
      "The Fuzzy Set is : {'a': 0.2, 'b': 0.3, 'c': 0.6, 'd': 0.6}\n",
      "Fuzzy Set Complement is : {'a': 0.8, 'b': 0.7, 'c': 0.4, 'd': 0.4}\n",
      "Fuzzy Set Difference is : {'a': 0.09999999999999998, 'b': 0.09999999999999998, 'c': 0.6, 'd': 0.5}\n"
     ]
    }
   ],
   "source": [
    "\n",
    "A = dict()\n",
    "B = dict()\n",
    "Y = dict()\n",
    "\n",
    "A = `{\"a\": 0.2, \"b\": 0.3, \"c\": 0.6, \"d\": 0.6}\n",
    "B = {\"a\": 0.9, \"b\": 0.9, \"c\": 0.4, \"d\": 0.5}\n",
    "\n",
    "print('The First Fuzzy Set is :', A)\n",
    "print('The Second Fuzzy Set is :', B)\n",
    "\n",
    "\n",
    "for A_key, B_key in zip(A, B):\n",
    "\tA_value = A[A_key]\n",
    "\tB_value = B[B_key]\n",
    "\n",
    "\tif A_value > B_value:\n",
    "\t\tY[A_key] = A_value\n",
    "\telse:\n",
    "\t\tY[B_key] = B_value\n",
    "\t\t\n",
    "print('Fuzzy Set Union is :', Y)\n",
    "\n",
    "\n",
    "\n",
    "for A_key, B_key in zip(A, B):\n",
    "\tA_value = A[A_key]\n",
    "\tB_value = B[B_key]\n",
    "\n",
    "\tif A_value < B_value:\n",
    "\t\tY[A_key] = A_value\n",
    "\telse:\n",
    "\t\tY[B_key] = B_value\n",
    "print('Fuzzy Set Intersection is :', Y)\n",
    "\n",
    "A = dict()\n",
    "Y = dict()\n",
    " \n",
    "A = {\"a\": 0.2, \"b\": 0.3, \"c\": 0.6, \"d\": 0.6}\n",
    " \n",
    "print('The Fuzzy Set is :', A)\n",
    " \n",
    " \n",
    "for A_key in A:\n",
    "   Y[A_key]= 1-A[A_key]\n",
    "         \n",
    "print('Fuzzy Set Complement is :', Y)\n",
    "\n",
    "for A_key, B_key in zip(A, B):\n",
    "    A_value = A[A_key]\n",
    "    B_value = B[B_key]\n",
    "    B_value = 1 - B_value\n",
    " \n",
    "    if A_value < B_value:\n",
    "        Y[A_key] = A_value\n",
    "    else:\n",
    "        Y[B_key] = B_value\n",
    "         \n",
    "print('Fuzzy Set Difference is :', Y)\n"
   ]
  },
  {
   "cell_type": "code",
   "execution_count": null,
   "metadata": {},
   "outputs": [],
   "source": []
  }
 ],
 "metadata": {
  "kernelspec": {
   "display_name": "Python 3",
   "language": "python",
   "name": "python3"
  },
  "language_info": {
   "codemirror_mode": {
    "name": "ipython",
    "version": 3
   },
   "file_extension": ".py",
   "mimetype": "text/x-python",
   "name": "python",
   "nbconvert_exporter": "python",
   "pygments_lexer": "ipython3",
   "version": "3.12.3"
  }
 },
 "nbformat": 4,
 "nbformat_minor": 2
}
