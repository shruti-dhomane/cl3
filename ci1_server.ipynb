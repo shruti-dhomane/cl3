{
 "cells": [
  {
   "cell_type": "code",
   "execution_count": 1,
   "metadata": {},
   "outputs": [
    {
     "name": "stdout",
     "output_type": "stream",
     "text": [
      "Requirement already satisfied: pyro4 in c:\\downloads\\python\\lib\\site-packages (4.82)\n",
      "Requirement already satisfied: serpent>=1.27 in c:\\downloads\\python\\lib\\site-packages (from pyro4) (1.41)\n",
      "Note: you may need to restart the kernel to use updated packages.\n"
     ]
    }
   ],
   "source": [
    "pip install pyro4"
   ]
  },
  {
   "cell_type": "code",
   "execution_count": 2,
   "metadata": {},
   "outputs": [
    {
     "name": "stdout",
     "output_type": "stream",
     "text": [
      "Listening on port 8000...\n"
     ]
    },
    {
     "name": "stderr",
     "output_type": "stream",
     "text": [
      "127.0.0.1 - - [23/Apr/2024 21:47:15] \"POST /RPC2 HTTP/1.1\" 200 -\n"
     ]
    }
   ],
   "source": [
    "# serverA.py\n",
    "import xmlrpc.server\n",
    "import math\n",
    "\n",
    "class MathServices:\n",
    "    def factorial(self, n):\n",
    "        return math.factorial(n)\n",
    "\n",
    "# Set up the server\n",
    "server = xmlrpc.server.SimpleXMLRPCServer((\"localhost\", 8000))\n",
    "print(\"Listening on port 8000...\")\n",
    "\n",
    "# Register MathServices instance to handle requests\n",
    "server.register_instance(MathServices())\n",
    "\n",
    "# Run the server's main loop\n",
    "server.serve_forever()"
   ]
  }
 ],
 "metadata": {
  "kernelspec": {
   "display_name": "Python 3",
   "language": "python",
   "name": "python3"
  },
  "language_info": {
   "codemirror_mode": {
    "name": "ipython",
    "version": 3
   },
   "file_extension": ".py",
   "mimetype": "text/x-python",
   "name": "python",
   "nbconvert_exporter": "python",
   "pygments_lexer": "ipython3",
   "version": "3.12.3"
  }
 },
 "nbformat": 4,
 "nbformat_minor": 2
}
