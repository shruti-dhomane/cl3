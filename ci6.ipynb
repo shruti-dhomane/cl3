{
 "cells": [
  {
   "cell_type": "code",
   "execution_count": 1,
   "metadata": {},
   "outputs": [
    {
     "name": "stdout",
     "output_type": "stream",
     "text": [
      "Requirement already satisfied: numpy in c:\\downloads\\python\\lib\\site-packages (1.26.4)\n",
      "Note: you may need to restart the kernel to use updated packages.\n"
     ]
    }
   ],
   "source": [
    "pip install numpy\n"
   ]
  },
  {
   "cell_type": "code",
   "execution_count": 2,
   "metadata": {},
   "outputs": [
    {
     "name": "stdout",
     "output_type": "stream",
     "text": [
      "Best solution: [-0.24050393  3.11671955]\n",
      "Best fitness: 9.77178287891007\n"
     ]
    }
   ],
   "source": [
    "\n",
    "# The Clonal Selection Algorithm (CSA) is a computational optimization algorithm inspired by the immune system's clonal selection process, where it clones and mutates high-affinity immune cells to improve their antigen recognition, effectively mimicking an adaptive search process for optimization problems.\n",
    "\n",
    "import random\n",
    "import numpy as np\n",
    "\n",
    "# Define the objective function\n",
    "def objective_function(x):\n",
    "# Example: Sphere function\n",
    "    return sum([i**2 for i in x])\n",
    "\n",
    "# Initialize population\n",
    "def initialize_population(pop_size, dimensions, lower_bound, upper_bound):\n",
    "    population = []\n",
    "    for _ in range(pop_size):\n",
    "        individual = np.random.uniform(lower_bound, upper_bound, dimensions)\n",
    "        population.append(individual)\n",
    "    return population\n",
    "\n",
    "# Clone an individual\n",
    "def clone_individual(individual, clone_factor):\n",
    "    clones = []\n",
    "    for _ in range(clone_factor):\n",
    "        clone = np.array(individual)\n",
    "        for i in range(len(clone)):\n",
    "          mutation_rate = random.uniform(0, 1)\n",
    "          if mutation_rate < 0.5:\n",
    "            clone[i] += random.uniform(-1, 1)\n",
    "    clones.append(clone)\n",
    "    return clones\n",
    "\n",
    "# Select the best individuals\n",
    "def select_best(population, num_selected, num_clones, clone_factor):\n",
    "    population.sort(key=lambda x: objective_function(x))\n",
    "    selected = []\n",
    "    for i in range(min(len(population), num_selected)):\n",
    "        clones = clone_individual(population[i], clone_factor)\n",
    "        selected.extend(clones)\n",
    "    return selected[:num_clones]\n",
    "\n",
    "# Main function for clonal selection algorithm\n",
    "def clonal_selection_algorithm(pop_size, dimensions, lower_bound, upper_bound,num_generations, num_selected, num_clones, clone_factor):\n",
    "    population = initialize_population(pop_size, dimensions, lower_bound, upper_bound)\n",
    "    for _ in range(num_generations):\n",
    "        selected = select_best(population, num_selected, num_clones, clone_factor)\n",
    "        population = selected\n",
    "    best_solution = min(population, key=lambda x: objective_function(x))\n",
    "    return best_solution, objective_function(best_solution)\n",
    "\n",
    "if __name__ == \"__main__\":\n",
    "    pop_size = 100\n",
    "    dimensions = 2\n",
    "    lower_bound = -5.0\n",
    "    upper_bound = 5.0\n",
    "    num_generations = 100\n",
    "    num_selected = 10\n",
    "    num_clones = 5\n",
    "    clone_factor = 3\n",
    "\n",
    "best_solution, best_fitness = clonal_selection_algorithm(pop_size,dimensions, lower_bound,upper_bound, \n",
    "                                                        num_generations, num_selected, num_clones, clone_factor)\n",
    "print(\"Best solution:\", best_solution)\n",
    "print(\"Best fitness:\", best_fitness)\n"
   ]
  },
  {
   "cell_type": "code",
   "execution_count": null,
   "metadata": {},
   "outputs": [],
   "source": []
  }
 ],
 "metadata": {
  "kernelspec": {
   "display_name": "Python 3",
   "language": "python",
   "name": "python3"
  },
  "language_info": {
   "codemirror_mode": {
    "name": "ipython",
    "version": 3
   },
   "file_extension": ".py",
   "mimetype": "text/x-python",
   "name": "python",
   "nbconvert_exporter": "python",
   "pygments_lexer": "ipython3",
   "version": "3.12.3"
  }
 },
 "nbformat": 4,
 "nbformat_minor": 2
}
